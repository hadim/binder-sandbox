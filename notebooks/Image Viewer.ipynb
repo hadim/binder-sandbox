{
 "cells": [
  {
   "cell_type": "code",
   "execution_count": 1,
   "metadata": {},
   "outputs": [],
   "source": [
    "import itk\n",
    "import itkwidgets\n",
    "import ipywidgets as widgets\n",
    "\n",
    "import numpy as np"
   ]
  },
  {
   "cell_type": "code",
   "execution_count": 2,
   "metadata": {},
   "outputs": [],
   "source": [
    "class ImageViewer:\n",
    "    \n",
    "    def __init__(self, image, image_axis=None, non_spatial_axis=None):\n",
    "        self.image = image\n",
    "        self.image_axis = image_axis\n",
    "        self.non_spatial_axis = non_spatial_axis\n",
    "        \n",
    "        if not self.image_axis:\n",
    "            self.image_axis = ('T', 'C', 'X', 'Y')\n",
    "            \n",
    "        if not self.non_spatial_axis:\n",
    "            self.non_spatial_axis = ['T', 'C']\n",
    "            \n",
    "        assert len(image.shape) == len(self.image_axis), \"Image axis and image shape must hav the same length.\"\n",
    "\n",
    "        # Log widget\n",
    "        self.out = widgets.Output()\n",
    "        self.log_widget = widgets.Accordion(children=[self.out])\n",
    "        self.log_widget.set_title(0, 'Log')\n",
    "    \n",
    "        # Init positions\n",
    "        self.axis_positions = np.zeros((len(self.non_spatial_axis), ), dtype='int')\n",
    "        \n",
    "        # Init positions label\n",
    "        self.position_label = widgets.Label(value=\"\")\n",
    "        self._update_position_label()\n",
    "        \n",
    "        # Init image viewer\n",
    "        self.image_widget = None\n",
    "        self._update_image()\n",
    "        \n",
    "        # Init sliders\n",
    "        sliders = []\n",
    "        for axis in self.non_spatial_axis:\n",
    "            idx = self.image_axis.index(axis)\n",
    "            n = self.image.shape[idx]\n",
    "\n",
    "            slider = widgets.IntSlider(value=0, min=0, max=n - 1, step=1, description=f'Axis {axis}', continuous_update=True)\n",
    "            slider.name = axis\n",
    "            slider.observe(self._position_sliders_change, names='value')\n",
    "            \n",
    "            play_widget = widgets.Play(value=0, min=0, max=n - 1, step=1, continuous_update=True)\n",
    "            widgets.link((play_widget, 'value'), (slider, 'value'))\n",
    "            sliders.append(widgets.HBox([play_widget, slider]))\n",
    " \n",
    "        # Create layout\n",
    "        self.slider_widgets = widgets.VBox(sliders)\n",
    "        self.control_widget = widgets.VBox([self.position_label, self.slider_widgets])\n",
    "        \n",
    "        self.widget = widgets.VBox([self.control_widget, self.image_widget, self.log_widget])\n",
    "\n",
    "    def log(self, message):\n",
    "        with self.out:\n",
    "            print(str(message))\n",
    "        \n",
    "    def _position_sliders_change(self, change):\n",
    "        axis = change['owner'].name\n",
    "        idx = self.image_axis.index(axis)\n",
    "        self.axis_positions[idx] = change['new']\n",
    "        self._update_position_label()\n",
    "        self._update_image()\n",
    "\n",
    "    def _update_position_label(self):\n",
    "        label_string = \"Axis Position: \"\n",
    "        label_string += ' | '.join([f'{axis}: {self.axis_positions[i]}' for i, axis in enumerate(self.non_spatial_axis)])\n",
    "        self.position_label.value = label_string\n",
    "        \n",
    "    def _update_image(self):\n",
    "        indexes = [self.axis_positions[i] for i in range(len(self.non_spatial_axis))]\n",
    "        indexes = [slice(idx, idx+1) for idx in indexes]\n",
    "        self.current_image = self.image[indexes]\n",
    "        self.current_image = np.squeeze(self.current_image)\n",
    "        \n",
    "        if not self.image_widget:\n",
    "            self.image_widget = itkwidgets.view(self.current_image, ui_collapsed=False, annotations=True,\n",
    "                                                interpolation=False, cmap='Viridis (matplotlib)', mode='v',\n",
    "                                                shadow=True, slicing_planes=False, gradient_opacity=0.22)\n",
    "        else:\n",
    "            self.image_widget.image = self.current_image"
   ]
  },
  {
   "cell_type": "code",
   "execution_count": 3,
   "metadata": {},
   "outputs": [
    {
     "name": "stderr",
     "output_type": "stream",
     "text": [
      "Using a non-tuple sequence for multidimensional indexing is deprecated; use `arr[tuple(seq)]` instead of `arr[seq]`. In the future this will be interpreted as an array index, `arr[np.array(seq)]`, which will result either in an error or a different result.\n"
     ]
    },
    {
     "data": {
      "application/vnd.jupyter.widget-view+json": {
       "model_id": "ebc057fcd0054ae5880ad8e5706824d2",
       "version_major": 2,
       "version_minor": 0
      },
      "text/plain": [
       "VBox(children=(VBox(children=(Label(value='Axis Position: T: 0 | C: 0'), VBox(children=(HBox(children=(Play(va…"
      ]
     },
     "metadata": {},
     "output_type": "display_data"
    }
   ],
   "source": [
    "# Create image with random noise\n",
    "image = np.random.random((50, 3, 512, 512))\n",
    "\n",
    "# Define axis\n",
    "image_axis = ('T', 'C', 'X', 'Y')\n",
    "non_spatial_axis = ['T', 'C']\n",
    "\n",
    "v = ImageViewer(image, image_axis=image_axis, non_spatial_axis=non_spatial_axis)\n",
    "v.widget"
   ]
  },
  {
   "cell_type": "code",
   "execution_count": null,
   "metadata": {},
   "outputs": [],
   "source": []
  }
 ],
 "metadata": {
  "kernelspec": {
   "display_name": "Python [conda env:itk]",
   "language": "python",
   "name": "conda-env-itk-py"
  },
  "language_info": {
   "codemirror_mode": {
    "name": "ipython",
    "version": 3
   },
   "file_extension": ".py",
   "mimetype": "text/x-python",
   "name": "python",
   "nbconvert_exporter": "python",
   "pygments_lexer": "ipython3",
   "version": "3.7.1"
  }
 },
 "nbformat": 4,
 "nbformat_minor": 2
}
